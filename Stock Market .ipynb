{
 "cells": [
  {
   "cell_type": "code",
   "execution_count": 2,
   "metadata": {},
   "outputs": [],
   "source": [
    "import pandas as pd\n",
    "import numpy as np\n",
    "import matplotlib.pyplot as plt"
   ]
  },
  {
   "cell_type": "code",
   "execution_count": 3,
   "metadata": {},
   "outputs": [],
   "source": [
    "r = pd.read_csv(\"RELIANCE.csv\")\n",
    "a = pd.read_csv(\"ADANIENT.csv\")"
   ]
  },
  {
   "cell_type": "code",
   "execution_count": 4,
   "metadata": {},
   "outputs": [],
   "source": [
    "r = r.iloc[:, [0, -3]]\n",
    "a = a.iloc[:, [0,-3]]"
   ]
  },
  {
   "cell_type": "code",
   "execution_count": 5,
   "metadata": {},
   "outputs": [],
   "source": [
    "r.rename(columns={'Close':'Price(Reliance)'}, inplace=True)\n",
    "a.rename(columns={'Close':'Price(Adani)'}, inplace=True)"
   ]
  },
  {
   "cell_type": "code",
   "execution_count": 6,
   "metadata": {},
   "outputs": [
    {
     "data": {
      "text/html": [
       "<div>\n",
       "<style scoped>\n",
       "    .dataframe tbody tr th:only-of-type {\n",
       "        vertical-align: middle;\n",
       "    }\n",
       "\n",
       "    .dataframe tbody tr th {\n",
       "        vertical-align: top;\n",
       "    }\n",
       "\n",
       "    .dataframe thead th {\n",
       "        text-align: right;\n",
       "    }\n",
       "</style>\n",
       "<table border=\"1\" class=\"dataframe\">\n",
       "  <thead>\n",
       "    <tr style=\"text-align: right;\">\n",
       "      <th></th>\n",
       "      <th>Date</th>\n",
       "      <th>Price(Reliance)</th>\n",
       "    </tr>\n",
       "  </thead>\n",
       "  <tbody>\n",
       "    <tr>\n",
       "      <th>0</th>\n",
       "      <td>2024-02-02</td>\n",
       "      <td>2915.399902</td>\n",
       "    </tr>\n",
       "    <tr>\n",
       "      <th>1</th>\n",
       "      <td>2024-02-05</td>\n",
       "      <td>2878.050049</td>\n",
       "    </tr>\n",
       "    <tr>\n",
       "      <th>2</th>\n",
       "      <td>2024-02-06</td>\n",
       "      <td>2855.600098</td>\n",
       "    </tr>\n",
       "    <tr>\n",
       "      <th>3</th>\n",
       "      <td>2024-02-07</td>\n",
       "      <td>2884.300049</td>\n",
       "    </tr>\n",
       "    <tr>\n",
       "      <th>4</th>\n",
       "      <td>2024-02-08</td>\n",
       "      <td>2900.250000</td>\n",
       "    </tr>\n",
       "  </tbody>\n",
       "</table>\n",
       "</div>"
      ],
      "text/plain": [
       "         Date  Price(Reliance)\n",
       "0  2024-02-02      2915.399902\n",
       "1  2024-02-05      2878.050049\n",
       "2  2024-02-06      2855.600098\n",
       "3  2024-02-07      2884.300049\n",
       "4  2024-02-08      2900.250000"
      ]
     },
     "execution_count": 6,
     "metadata": {},
     "output_type": "execute_result"
    }
   ],
   "source": [
    "r"
   ]
  },
  {
   "cell_type": "code",
   "execution_count": 7,
   "metadata": {},
   "outputs": [
    {
     "data": {
      "text/html": [
       "<div>\n",
       "<style scoped>\n",
       "    .dataframe tbody tr th:only-of-type {\n",
       "        vertical-align: middle;\n",
       "    }\n",
       "\n",
       "    .dataframe tbody tr th {\n",
       "        vertical-align: top;\n",
       "    }\n",
       "\n",
       "    .dataframe thead th {\n",
       "        text-align: right;\n",
       "    }\n",
       "</style>\n",
       "<table border=\"1\" class=\"dataframe\">\n",
       "  <thead>\n",
       "    <tr style=\"text-align: right;\">\n",
       "      <th></th>\n",
       "      <th>Date</th>\n",
       "      <th>Price(Adani)</th>\n",
       "    </tr>\n",
       "  </thead>\n",
       "  <tbody>\n",
       "    <tr>\n",
       "      <th>0</th>\n",
       "      <td>2024-02-02</td>\n",
       "      <td>3157.449951</td>\n",
       "    </tr>\n",
       "    <tr>\n",
       "      <th>1</th>\n",
       "      <td>2024-02-05</td>\n",
       "      <td>3173.449951</td>\n",
       "    </tr>\n",
       "    <tr>\n",
       "      <th>2</th>\n",
       "      <td>2024-02-06</td>\n",
       "      <td>3203.750000</td>\n",
       "    </tr>\n",
       "    <tr>\n",
       "      <th>3</th>\n",
       "      <td>2024-02-07</td>\n",
       "      <td>3229.850098</td>\n",
       "    </tr>\n",
       "    <tr>\n",
       "      <th>4</th>\n",
       "      <td>2024-02-08</td>\n",
       "      <td>3168.600098</td>\n",
       "    </tr>\n",
       "  </tbody>\n",
       "</table>\n",
       "</div>"
      ],
      "text/plain": [
       "         Date  Price(Adani)\n",
       "0  2024-02-02   3157.449951\n",
       "1  2024-02-05   3173.449951\n",
       "2  2024-02-06   3203.750000\n",
       "3  2024-02-07   3229.850098\n",
       "4  2024-02-08   3168.600098"
      ]
     },
     "execution_count": 7,
     "metadata": {},
     "output_type": "execute_result"
    }
   ],
   "source": [
    "a"
   ]
  },
  {
   "cell_type": "code",
   "execution_count": 8,
   "metadata": {},
   "outputs": [
    {
     "data": {
      "text/html": [
       "<div>\n",
       "<style scoped>\n",
       "    .dataframe tbody tr th:only-of-type {\n",
       "        vertical-align: middle;\n",
       "    }\n",
       "\n",
       "    .dataframe tbody tr th {\n",
       "        vertical-align: top;\n",
       "    }\n",
       "\n",
       "    .dataframe thead th {\n",
       "        text-align: right;\n",
       "    }\n",
       "</style>\n",
       "<table border=\"1\" class=\"dataframe\">\n",
       "  <thead>\n",
       "    <tr style=\"text-align: right;\">\n",
       "      <th></th>\n",
       "      <th>Date</th>\n",
       "      <th>Price(Adani)</th>\n",
       "      <th>Price(Reliance)</th>\n",
       "    </tr>\n",
       "  </thead>\n",
       "  <tbody>\n",
       "    <tr>\n",
       "      <th>0</th>\n",
       "      <td>2024-02-02</td>\n",
       "      <td>3157.449951</td>\n",
       "      <td>2915.399902</td>\n",
       "    </tr>\n",
       "    <tr>\n",
       "      <th>1</th>\n",
       "      <td>2024-02-05</td>\n",
       "      <td>3173.449951</td>\n",
       "      <td>2878.050049</td>\n",
       "    </tr>\n",
       "    <tr>\n",
       "      <th>2</th>\n",
       "      <td>2024-02-06</td>\n",
       "      <td>3203.750000</td>\n",
       "      <td>2855.600098</td>\n",
       "    </tr>\n",
       "    <tr>\n",
       "      <th>3</th>\n",
       "      <td>2024-02-07</td>\n",
       "      <td>3229.850098</td>\n",
       "      <td>2884.300049</td>\n",
       "    </tr>\n",
       "    <tr>\n",
       "      <th>4</th>\n",
       "      <td>2024-02-08</td>\n",
       "      <td>3168.600098</td>\n",
       "      <td>2900.250000</td>\n",
       "    </tr>\n",
       "  </tbody>\n",
       "</table>\n",
       "</div>"
      ],
      "text/plain": [
       "         Date  Price(Adani)  Price(Reliance)\n",
       "0  2024-02-02   3157.449951      2915.399902\n",
       "1  2024-02-05   3173.449951      2878.050049\n",
       "2  2024-02-06   3203.750000      2855.600098\n",
       "3  2024-02-07   3229.850098      2884.300049\n",
       "4  2024-02-08   3168.600098      2900.250000"
      ]
     },
     "execution_count": 8,
     "metadata": {},
     "output_type": "execute_result"
    }
   ],
   "source": [
    "df = a.merge(r, on='Date')\n",
    "df"
   ]
  },
  {
   "cell_type": "code",
   "execution_count": 9,
   "metadata": {},
   "outputs": [],
   "source": [
    "def R(price_col):\n",
    "    first_row = [0]\n",
    "    for i in range(1, len(price_col)):\n",
    "        first_row.append(((price_col[i]-price_col[i-1])/(price_col[i-1]))*100)\n",
    "    return np.array(first_row).round(2)\n",
    "df['R(A)'] = R(df.iloc[:, 1])\n",
    "df['R(R)'] = R(df.iloc[:, 2])"
   ]
  },
  {
   "cell_type": "code",
   "execution_count": 10,
   "metadata": {},
   "outputs": [
    {
     "data": {
      "text/html": [
       "<div>\n",
       "<style scoped>\n",
       "    .dataframe tbody tr th:only-of-type {\n",
       "        vertical-align: middle;\n",
       "    }\n",
       "\n",
       "    .dataframe tbody tr th {\n",
       "        vertical-align: top;\n",
       "    }\n",
       "\n",
       "    .dataframe thead th {\n",
       "        text-align: right;\n",
       "    }\n",
       "</style>\n",
       "<table border=\"1\" class=\"dataframe\">\n",
       "  <thead>\n",
       "    <tr style=\"text-align: right;\">\n",
       "      <th></th>\n",
       "      <th>Date</th>\n",
       "      <th>Price(Adani)</th>\n",
       "      <th>Price(Reliance)</th>\n",
       "      <th>R(A)</th>\n",
       "      <th>R(R)</th>\n",
       "    </tr>\n",
       "  </thead>\n",
       "  <tbody>\n",
       "    <tr>\n",
       "      <th>0</th>\n",
       "      <td>2024-02-02</td>\n",
       "      <td>3157.449951</td>\n",
       "      <td>2915.399902</td>\n",
       "      <td>0.00</td>\n",
       "      <td>0.00</td>\n",
       "    </tr>\n",
       "    <tr>\n",
       "      <th>1</th>\n",
       "      <td>2024-02-05</td>\n",
       "      <td>3173.449951</td>\n",
       "      <td>2878.050049</td>\n",
       "      <td>0.51</td>\n",
       "      <td>-1.28</td>\n",
       "    </tr>\n",
       "    <tr>\n",
       "      <th>2</th>\n",
       "      <td>2024-02-06</td>\n",
       "      <td>3203.750000</td>\n",
       "      <td>2855.600098</td>\n",
       "      <td>0.95</td>\n",
       "      <td>-0.78</td>\n",
       "    </tr>\n",
       "    <tr>\n",
       "      <th>3</th>\n",
       "      <td>2024-02-07</td>\n",
       "      <td>3229.850098</td>\n",
       "      <td>2884.300049</td>\n",
       "      <td>0.81</td>\n",
       "      <td>1.01</td>\n",
       "    </tr>\n",
       "    <tr>\n",
       "      <th>4</th>\n",
       "      <td>2024-02-08</td>\n",
       "      <td>3168.600098</td>\n",
       "      <td>2900.250000</td>\n",
       "      <td>-1.90</td>\n",
       "      <td>0.55</td>\n",
       "    </tr>\n",
       "  </tbody>\n",
       "</table>\n",
       "</div>"
      ],
      "text/plain": [
       "         Date  Price(Adani)  Price(Reliance)  R(A)  R(R)\n",
       "0  2024-02-02   3157.449951      2915.399902  0.00  0.00\n",
       "1  2024-02-05   3173.449951      2878.050049  0.51 -1.28\n",
       "2  2024-02-06   3203.750000      2855.600098  0.95 -0.78\n",
       "3  2024-02-07   3229.850098      2884.300049  0.81  1.01\n",
       "4  2024-02-08   3168.600098      2900.250000 -1.90  0.55"
      ]
     },
     "execution_count": 10,
     "metadata": {},
     "output_type": "execute_result"
    }
   ],
   "source": [
    "df"
   ]
  },
  {
   "cell_type": "code",
   "execution_count": 11,
   "metadata": {},
   "outputs": [],
   "source": [
    "E_R_A = df.iloc[:, -2].mean()\n",
    "E_R_B = df.iloc[:, -1].mean()\n"
   ]
  },
  {
   "cell_type": "code",
   "execution_count": 12,
   "metadata": {},
   "outputs": [
    {
     "data": {
      "text/plain": [
       "26.122500000000006"
      ]
     },
     "execution_count": 12,
     "metadata": {},
     "output_type": "execute_result"
    }
   ],
   "source": [
    "outcomes = np.array([0.1,0.4,0.3,0.2])\n",
    "p = np.array([2.5,-0.5,1,13])\n",
    "t = np.array([6,7.5,2,-3])\n",
    "np.dot(outcomes, (p-2.95)**2)"
   ]
  },
  {
   "cell_type": "code",
   "execution_count": 13,
   "metadata": {},
   "outputs": [
    {
     "data": {
      "text/plain": [
       "-17.82"
      ]
     },
     "execution_count": 13,
     "metadata": {},
     "output_type": "execute_result"
    }
   ],
   "source": [
    "r = 0\n",
    "for i, j in enumerate(outcomes):\n",
    "    r += j*t[i]*p[i]\n",
    "r-(2.95)*(3.6)"
   ]
  },
  {
   "cell_type": "code",
   "execution_count": 14,
   "metadata": {},
   "outputs": [
    {
     "data": {
      "text/plain": [
       "(0.07400000000000002, -0.1)"
      ]
     },
     "execution_count": 14,
     "metadata": {},
     "output_type": "execute_result"
    }
   ],
   "source": [
    "E_R_A, E_R_B"
   ]
  },
  {
   "cell_type": "code",
   "execution_count": 27,
   "metadata": {},
   "outputs": [
    {
     "data": {
      "image/png": "[encoded data removed]",
      "text/plain": [
       "<Figure size 640x480 with 1 Axes>"
      ]
     },
     "metadata": {},
     "output_type": "display_data"
    }
   ],
   "source": [
    "plt.scatter([df['R(A)'].std()], [df['R(A)'].mean()], color='r', label='Adani')\n",
    "plt.scatter([df['R(R)'].std()], [df['R(R)'].mean()], color='g', label='reliance')\n",
    "plt.xlabel(\"Standard Deviation(%)\")\n",
    "plt.ylabel(\"Expected Return(%)\")\n",
    "plt.legend()\n",
    "plt.show()"
   ]
  },
  {
   "cell_type": "code",
   "execution_count": null,
   "metadata": {},
   "outputs": [],
   "source": []
  },
  {
   "cell_type": "code",
   "execution_count": 22,
   "metadata": {},
   "outputs": [
    {
     "data": {
      "image/png": "[encoded data removed]",
      "text/plain": [
       "<Figure size 640x480 with 2 Axes>"
      ]
     },
     "metadata": {},
     "output_type": "display_data"
    }
   ],
   "source": [
    "import matplotlib.pyplot as plt\n",
    "import numpy as np\n",
    "\n",
    "# Generate some example data\n",
    "x = df['Date']\n",
    "y1 = df.iloc[:,1]\n",
    "y2 = df.iloc[:,2]\n",
    "\n",
    "# Create the first plot and y-axis\n",
    "fig, ax1 = plt.subplots()\n",
    "color = 'tab:blue'\n",
    "ax1.set_xlabel('X-axis')\n",
    "ax1.set_ylabel('Adani', color=color)\n",
    "ax1.plot(df['Date'], y1, label='sin(x)', color=color)\n",
    "ax1.tick_params(axis='y', labelcolor=color)\n",
    "\n",
    "# Create the second y-axis\n",
    "ax2 = ax1.twinx()\n",
    "color = 'tab:red'\n",
    "ax2.set_ylabel('Reliance', color=color)\n",
    "ax2.plot(x, y2, label='cos(x)', color=color)\n",
    "ax2.tick_params(axis='y', labelcolor=color)\n",
    "\n",
    "# Display the plot\n",
    "fig.tight_layout()\n",
    "plt.title('Plot with Two Y-Axes')\n",
    "plt.show()\n",
    "\n"
   ]
  },
  {
   "cell_type": "code",
   "execution_count": 28,
   "metadata": {},
   "outputs": [
    {
     "data": {
      "text/html": [
       "<div>\n",
       "<style scoped>\n",
       "    .dataframe tbody tr th:only-of-type {\n",
       "        vertical-align: middle;\n",
       "    }\n",
       "\n",
       "    .dataframe tbody tr th {\n",
       "        vertical-align: top;\n",
       "    }\n",
       "\n",
       "    .dataframe thead th {\n",
       "        text-align: right;\n",
       "    }\n",
       "</style>\n",
       "<table border=\"1\" class=\"dataframe\">\n",
       "  <thead>\n",
       "    <tr style=\"text-align: right;\">\n",
       "      <th></th>\n",
       "      <th>Date</th>\n",
       "      <th>Price(Adani)</th>\n",
       "      <th>Price(Reliance)</th>\n",
       "      <th>R(A)</th>\n",
       "      <th>R(R)</th>\n",
       "    </tr>\n",
       "  </thead>\n",
       "  <tbody>\n",
       "    <tr>\n",
       "      <th>0</th>\n",
       "      <td>2024-02-02</td>\n",
       "      <td>3157.449951</td>\n",
       "      <td>2915.399902</td>\n",
       "      <td>0.00</td>\n",
       "      <td>0.00</td>\n",
       "    </tr>\n",
       "    <tr>\n",
       "      <th>1</th>\n",
       "      <td>2024-02-05</td>\n",
       "      <td>3173.449951</td>\n",
       "      <td>2878.050049</td>\n",
       "      <td>0.51</td>\n",
       "      <td>-1.28</td>\n",
       "    </tr>\n",
       "    <tr>\n",
       "      <th>2</th>\n",
       "      <td>2024-02-06</td>\n",
       "      <td>3203.750000</td>\n",
       "      <td>2855.600098</td>\n",
       "      <td>0.95</td>\n",
       "      <td>-0.78</td>\n",
       "    </tr>\n",
       "    <tr>\n",
       "      <th>3</th>\n",
       "      <td>2024-02-07</td>\n",
       "      <td>3229.850098</td>\n",
       "      <td>2884.300049</td>\n",
       "      <td>0.81</td>\n",
       "      <td>1.01</td>\n",
       "    </tr>\n",
       "    <tr>\n",
       "      <th>4</th>\n",
       "      <td>2024-02-08</td>\n",
       "      <td>3168.600098</td>\n",
       "      <td>2900.250000</td>\n",
       "      <td>-1.90</td>\n",
       "      <td>0.55</td>\n",
       "    </tr>\n",
       "  </tbody>\n",
       "</table>\n",
       "</div>"
      ],
      "text/plain": [
       "         Date  Price(Adani)  Price(Reliance)  R(A)  R(R)\n",
       "0  2024-02-02   3157.449951      2915.399902  0.00  0.00\n",
       "1  2024-02-05   3173.449951      2878.050049  0.51 -1.28\n",
       "2  2024-02-06   3203.750000      2855.600098  0.95 -0.78\n",
       "3  2024-02-07   3229.850098      2884.300049  0.81  1.01\n",
       "4  2024-02-08   3168.600098      2900.250000 -1.90  0.55"
      ]
     },
     "execution_count": 28,
     "metadata": {},
     "output_type": "execute_result"
    }
   ],
   "source": [
    "df"
   ]
  },
  {
   "cell_type": "code",
   "execution_count": 34,
   "metadata": {},
   "outputs": [
    {
     "data": {
      "text/html": [
       "<div>\n",
       "<style scoped>\n",
       "    .dataframe tbody tr th:only-of-type {\n",
       "        vertical-align: middle;\n",
       "    }\n",
       "\n",
       "    .dataframe tbody tr th {\n",
       "        vertical-align: top;\n",
       "    }\n",
       "\n",
       "    .dataframe thead th {\n",
       "        text-align: right;\n",
       "    }\n",
       "</style>\n",
       "<table border=\"1\" class=\"dataframe\">\n",
       "  <thead>\n",
       "    <tr style=\"text-align: right;\">\n",
       "      <th></th>\n",
       "      <th>Exp Return(A)</th>\n",
       "      <th>Standard Deviation(A)</th>\n",
       "      <th>Exp Return(B)</th>\n",
       "      <th>Standard Deviation(B)</th>\n",
       "    </tr>\n",
       "  </thead>\n",
       "  <tbody>\n",
       "    <tr>\n",
       "      <th>0</th>\n",
       "      <td>0.074</td>\n",
       "      <td>1.162037</td>\n",
       "      <td>-0.1</td>\n",
       "      <td>0.938003</td>\n",
       "    </tr>\n",
       "  </tbody>\n",
       "</table>\n",
       "</div>"
      ],
      "text/plain": [
       "   Exp Return(A)  Standard Deviation(A)  Exp Return(B)  Standard Deviation(B)\n",
       "0          0.074               1.162037           -0.1               0.938003"
      ]
     },
     "execution_count": 34,
     "metadata": {},
     "output_type": "execute_result"
    }
   ],
   "source": [
    "df2 = pd.DataFrame({\n",
    "    'Exp Return(A)':df.iloc[:, -2].mean(),\n",
    "    'Standard Deviation(A)':df.iloc[:, -2].std(),\n",
    "    'Exp Return(B)':df.iloc[:, -1].mean(),\n",
    "    'Standard Deviation(B)':df.iloc[:, -1].std()\n",
    "}, index=[0])\n",
    "df2"
   ]
  },
  {
   "cell_type": "code",
   "execution_count": 41,
   "metadata": {},
   "outputs": [],
   "source": [
    "def getport(EA, ER, W1, W2):\n",
    "    return np.dot(np.array([W1, W2]), np.array([EA, ER]))"
   ]
  },
  {
   "cell_type": "code",
   "execution_count": 43,
   "metadata": {},
   "outputs": [
    {
     "data": {
      "text/plain": [
       "array([-0.013])"
      ]
     },
     "execution_count": 43,
     "metadata": {},
     "output_type": "execute_result"
    }
   ],
   "source": [
    "getport(df2.iloc[:, 0], df2.iloc[:, 2], 0.5, 0.5)"
   ]
  },
  {
   "cell_type": "code",
   "execution_count": 46,
   "metadata": {},
   "outputs": [
    {
     "data": {
      "text/html": [
       "<div>\n",
       "<style scoped>\n",
       "    .dataframe tbody tr th:only-of-type {\n",
       "        vertical-align: middle;\n",
       "    }\n",
       "\n",
       "    .dataframe tbody tr th {\n",
       "        vertical-align: top;\n",
       "    }\n",
       "\n",
       "    .dataframe thead th {\n",
       "        text-align: right;\n",
       "    }\n",
       "</style>\n",
       "<table border=\"1\" class=\"dataframe\">\n",
       "  <thead>\n",
       "    <tr style=\"text-align: right;\">\n",
       "      <th></th>\n",
       "      <th>Date</th>\n",
       "      <th>Price(Adani)</th>\n",
       "      <th>Price(Reliance)</th>\n",
       "      <th>R(A)</th>\n",
       "      <th>R(R)</th>\n",
       "      <th>Portolio Return(0.5 + 0.5)</th>\n",
       "    </tr>\n",
       "  </thead>\n",
       "  <tbody>\n",
       "    <tr>\n",
       "      <th>0</th>\n",
       "      <td>2024-02-02</td>\n",
       "      <td>3157.449951</td>\n",
       "      <td>2915.399902</td>\n",
       "      <td>0.00</td>\n",
       "      <td>0.00</td>\n",
       "      <td>0.000</td>\n",
       "    </tr>\n",
       "    <tr>\n",
       "      <th>1</th>\n",
       "      <td>2024-02-05</td>\n",
       "      <td>3173.449951</td>\n",
       "      <td>2878.050049</td>\n",
       "      <td>0.51</td>\n",
       "      <td>-1.28</td>\n",
       "      <td>-0.385</td>\n",
       "    </tr>\n",
       "    <tr>\n",
       "      <th>2</th>\n",
       "      <td>2024-02-06</td>\n",
       "      <td>3203.750000</td>\n",
       "      <td>2855.600098</td>\n",
       "      <td>0.95</td>\n",
       "      <td>-0.78</td>\n",
       "      <td>0.085</td>\n",
       "    </tr>\n",
       "    <tr>\n",
       "      <th>3</th>\n",
       "      <td>2024-02-07</td>\n",
       "      <td>3229.850098</td>\n",
       "      <td>2884.300049</td>\n",
       "      <td>0.81</td>\n",
       "      <td>1.01</td>\n",
       "      <td>0.910</td>\n",
       "    </tr>\n",
       "    <tr>\n",
       "      <th>4</th>\n",
       "      <td>2024-02-08</td>\n",
       "      <td>3168.600098</td>\n",
       "      <td>2900.250000</td>\n",
       "      <td>-1.90</td>\n",
       "      <td>0.55</td>\n",
       "      <td>-0.675</td>\n",
       "    </tr>\n",
       "  </tbody>\n",
       "</table>\n",
       "</div>"
      ],
      "text/plain": [
       "         Date  Price(Adani)  Price(Reliance)  R(A)  R(R)  \\\n",
       "0  2024-02-02   3157.449951      2915.399902  0.00  0.00   \n",
       "1  2024-02-05   3173.449951      2878.050049  0.51 -1.28   \n",
       "2  2024-02-06   3203.750000      2855.600098  0.95 -0.78   \n",
       "3  2024-02-07   3229.850098      2884.300049  0.81  1.01   \n",
       "4  2024-02-08   3168.600098      2900.250000 -1.90  0.55   \n",
       "\n",
       "   Portolio Return(0.5 + 0.5)  \n",
       "0                       0.000  \n",
       "1                      -0.385  \n",
       "2                       0.085  \n",
       "3                       0.910  \n",
       "4                      -0.675  "
      ]
     },
     "execution_count": 46,
     "metadata": {},
     "output_type": "execute_result"
    }
   ],
   "source": [
    "df['Portolio Return(0.5 + 0.5)'] = 0.5*(df.iloc[:,3]) + 0.5*(df.iloc[:, 4])\n",
    "\n",
    "df"
   ]
  },
  {
   "cell_type": "code",
   "execution_count": 48,
   "metadata": {},
   "outputs": [
    {
     "data": {
      "text/html": [
       "<div>\n",
       "<style scoped>\n",
       "    .dataframe tbody tr th:only-of-type {\n",
       "        vertical-align: middle;\n",
       "    }\n",
       "\n",
       "    .dataframe tbody tr th {\n",
       "        vertical-align: top;\n",
       "    }\n",
       "\n",
       "    .dataframe thead th {\n",
       "        text-align: right;\n",
       "    }\n",
       "</style>\n",
       "<table border=\"1\" class=\"dataframe\">\n",
       "  <thead>\n",
       "    <tr style=\"text-align: right;\">\n",
       "      <th></th>\n",
       "      <th>Exp Return(A)</th>\n",
       "      <th>Standard Deviation(A)</th>\n",
       "      <th>Exp Return(B)</th>\n",
       "      <th>Standard Deviation(B)</th>\n",
       "      <th>Portfolio Return</th>\n",
       "      <th>Standard Deviation(Port)</th>\n",
       "    </tr>\n",
       "  </thead>\n",
       "  <tbody>\n",
       "    <tr>\n",
       "      <th>0</th>\n",
       "      <td>0.074</td>\n",
       "      <td>1.162037</td>\n",
       "      <td>-0.1</td>\n",
       "      <td>0.938003</td>\n",
       "      <td>-0.013</td>\n",
       "      <td>0.599652</td>\n",
       "    </tr>\n",
       "  </tbody>\n",
       "</table>\n",
       "</div>"
      ],
      "text/plain": [
       "   Exp Return(A)  Standard Deviation(A)  Exp Return(B)  Standard Deviation(B)  \\\n",
       "0          0.074               1.162037           -0.1               0.938003   \n",
       "\n",
       "   Portfolio Return  Standard Deviation(Port)  \n",
       "0            -0.013                  0.599652  "
      ]
     },
     "execution_count": 48,
     "metadata": {},
     "output_type": "execute_result"
    }
   ],
   "source": [
    "df2['Portfolio Return'] = df.iloc[:, -1].mean()\n",
    "df2['Standard Deviation(Port)'] = df.iloc[:, -1].std()\n",
    "df2"
   ]
  },
  {
   "cell_type": "code",
   "execution_count": 51,
   "metadata": {},
   "outputs": [
    {
     "data": {
      "image/png": "[encoded data removed]",
      "text/plain": [
       "<Figure size 640x480 with 1 Axes>"
      ]
     },
     "metadata": {},
     "output_type": "display_data"
    }
   ],
   "source": [
    "plt.scatter([df['R(A)'].std()], [df['R(A)'].mean()], color='r', label='Adani')\n",
    "plt.scatter([df['R(R)'].std()], [df['R(R)'].mean()], color='g', label='reliance')\n",
    "plt.scatter(df2.iloc[:, -1], df2.iloc[:, -2], color='blue', label='50-50(A+R)')\n",
    "plt.xlabel(\"Standard Deviation(%)\")\n",
    "plt.ylabel(\"Expected Return(%)\")\n",
    "plt.legend()\n",
    "plt.show()"
   ]
  },
  {
   "cell_type": "code",
   "execution_count": 84,
   "metadata": {},
   "outputs": [],
   "source": [
    "combos = []\n",
    "\n",
    "for i in range(1, 100):\n",
    "    j = 100-i\n",
    "    combos.append([i, j])\n",
    "combos = np.array(combos)/100\n",
    "\n",
    "def getport_std(w1, w2):\n",
    "    list_of_returns = w1*(df.iloc[:,3]) + w2*(df.iloc[:, 4])\n",
    "    return list_of_returns.std()\n",
    "def getport_return(w1, w2):\n",
    "    list_of_returns = w1*(df.iloc[:,3]) + w2*(df.iloc[:, 4])\n",
    "    return list_of_returns.mean()\n",
    "#EA, ER, W1, W2\n",
    "#port_return = getport(df2.iloc[:, 0], df2.iloc[:, 2], w2, w1)\n"
   ]
  },
  {
   "cell_type": "code",
   "execution_count": 88,
   "metadata": {},
   "outputs": [
    {
     "data": {
      "image/png": "[encoded data removed]",
      "text/plain": [
       "<Figure size 640x480 with 1 Axes>"
      ]
     },
     "metadata": {},
     "output_type": "display_data"
    }
   ],
   "source": [
    "plt.scatter([df['R(A)'].std()], [df['R(A)'].mean()], color='r', label='Adani')\n",
    "plt.scatter([df['R(R)'].std()], [df['R(R)'].mean()], color='g', label='reliance')\n",
    "# plt.scatter(getport_std(combos[:, 0], combos[:, 1]), getport_return(combos[:, 0], combos[:, 1]), color='blue')\n",
    "for i in combos:\n",
    "    plt.scatter(getport_std(i[0], i[1]), getport_return(i[0], i[1]), color='orange')\n",
    "plt.xlabel(\"Standard Deviation(%)\")\n",
    "plt.ylabel(\"Expected Return(%)\")\n",
    "plt.legend()\n",
    "plt.show()"
   ]
  },
  {
   "cell_type": "code",
   "execution_count": 75,
   "metadata": {},
   "outputs": [
    {
     "data": {
      "text/plain": [
       "0.5996519824031269"
      ]
     },
     "execution_count": 75,
     "metadata": {},
     "output_type": "execute_result"
    }
   ],
   "source": [
    "(0.5*(df.iloc[:,3]) + 0.5*(df.iloc[:, 4])).std()"
   ]
  },
  {
   "cell_type": "code",
   "execution_count": 83,
   "metadata": {},
   "outputs": [
    {
     "data": {
      "text/html": [
       "<div>\n",
       "<style scoped>\n",
       "    .dataframe tbody tr th:only-of-type {\n",
       "        vertical-align: middle;\n",
       "    }\n",
       "\n",
       "    .dataframe tbody tr th {\n",
       "        vertical-align: top;\n",
       "    }\n",
       "\n",
       "    .dataframe thead th {\n",
       "        text-align: right;\n",
       "    }\n",
       "</style>\n",
       "<table border=\"1\" class=\"dataframe\">\n",
       "  <thead>\n",
       "    <tr style=\"text-align: right;\">\n",
       "      <th></th>\n",
       "      <th>Exp Return(A)</th>\n",
       "      <th>Standard Deviation(A)</th>\n",
       "      <th>Exp Return(B)</th>\n",
       "      <th>Standard Deviation(B)</th>\n",
       "      <th>Portfolio Return</th>\n",
       "      <th>Standard Deviation(Port)</th>\n",
       "    </tr>\n",
       "  </thead>\n",
       "  <tbody>\n",
       "    <tr>\n",
       "      <th>0</th>\n",
       "      <td>0.074</td>\n",
       "      <td>1.162037</td>\n",
       "      <td>-0.1</td>\n",
       "      <td>0.938003</td>\n",
       "      <td>-0.013</td>\n",
       "      <td>0.599652</td>\n",
       "    </tr>\n",
       "  </tbody>\n",
       "</table>\n",
       "</div>"
      ],
      "text/plain": [
       "   Exp Return(A)  Standard Deviation(A)  Exp Return(B)  Standard Deviation(B)  \\\n",
       "0          0.074               1.162037           -0.1               0.938003   \n",
       "\n",
       "   Portfolio Return  Standard Deviation(Port)  \n",
       "0            -0.013                  0.599652  "
      ]
     },
     "execution_count": 83,
     "metadata": {},
     "output_type": "execute_result"
    }
   ],
   "source": [
    "df2"
   ]
  },
  {
   "cell_type": "code",
   "execution_count": 95,
   "metadata": {},
   "outputs": [
    {
     "data": {
      "text/plain": [
       "array([[0.01, 0.99],\n",
       "       [0.02, 0.98],\n",
       "       [0.03, 0.97],\n",
       "       [0.04, 0.96],\n",
       "       [0.05, 0.95],\n",
       "       [0.06, 0.94],\n",
       "       [0.07, 0.93],\n",
       "       [0.08, 0.92],\n",
       "       [0.09, 0.91],\n",
       "       [0.1 , 0.9 ],\n",
       "       [0.11, 0.89],\n",
       "       [0.12, 0.88],\n",
       "       [0.13, 0.87],\n",
       "       [0.14, 0.86],\n",
       "       [0.15, 0.85],\n",
       "       [0.16, 0.84],\n",
       "       [0.17, 0.83],\n",
       "       [0.18, 0.82],\n",
       "       [0.19, 0.81],\n",
       "       [0.2 , 0.8 ],\n",
       "       [0.21, 0.79],\n",
       "       [0.22, 0.78],\n",
       "       [0.23, 0.77],\n",
       "       [0.24, 0.76],\n",
       "       [0.25, 0.75],\n",
       "       [0.26, 0.74],\n",
       "       [0.27, 0.73],\n",
       "       [0.28, 0.72],\n",
       "       [0.29, 0.71],\n",
       "       [0.3 , 0.7 ],\n",
       "       [0.31, 0.69],\n",
       "       [0.32, 0.68],\n",
       "       [0.33, 0.67],\n",
       "       [0.34, 0.66],\n",
       "       [0.35, 0.65],\n",
       "       [0.36, 0.64],\n",
       "       [0.37, 0.63],\n",
       "       [0.38, 0.62],\n",
       "       [0.39, 0.61],\n",
       "       [0.4 , 0.6 ],\n",
       "       [0.41, 0.59],\n",
       "       [0.42, 0.58],\n",
       "       [0.43, 0.57],\n",
       "       [0.44, 0.56],\n",
       "       [0.45, 0.55],\n",
       "       [0.46, 0.54],\n",
       "       [0.47, 0.53],\n",
       "       [0.48, 0.52],\n",
       "       [0.49, 0.51],\n",
       "       [0.5 , 0.5 ],\n",
       "       [0.51, 0.49],\n",
       "       [0.52, 0.48],\n",
       "       [0.53, 0.47],\n",
       "       [0.54, 0.46],\n",
       "       [0.55, 0.45],\n",
       "       [0.56, 0.44],\n",
       "       [0.57, 0.43],\n",
       "       [0.58, 0.42],\n",
       "       [0.59, 0.41],\n",
       "       [0.6 , 0.4 ],\n",
       "       [0.61, 0.39],\n",
       "       [0.62, 0.38],\n",
       "       [0.63, 0.37],\n",
       "       [0.64, 0.36],\n",
       "       [0.65, 0.35],\n",
       "       [0.66, 0.34],\n",
       "       [0.67, 0.33],\n",
       "       [0.68, 0.32],\n",
       "       [0.69, 0.31],\n",
       "       [0.7 , 0.3 ],\n",
       "       [0.71, 0.29],\n",
       "       [0.72, 0.28],\n",
       "       [0.73, 0.27],\n",
       "       [0.74, 0.26],\n",
       "       [0.75, 0.25],\n",
       "       [0.76, 0.24],\n",
       "       [0.77, 0.23],\n",
       "       [0.78, 0.22],\n",
       "       [0.79, 0.21],\n",
       "       [0.8 , 0.2 ],\n",
       "       [0.81, 0.19],\n",
       "       [0.82, 0.18],\n",
       "       [0.83, 0.17],\n",
       "       [0.84, 0.16],\n",
       "       [0.85, 0.15],\n",
       "       [0.86, 0.14],\n",
       "       [0.87, 0.13],\n",
       "       [0.88, 0.12],\n",
       "       [0.89, 0.11],\n",
       "       [0.9 , 0.1 ],\n",
       "       [0.91, 0.09],\n",
       "       [0.92, 0.08],\n",
       "       [0.93, 0.07],\n",
       "       [0.94, 0.06],\n",
       "       [0.95, 0.05],\n",
       "       [0.96, 0.04],\n",
       "       [0.97, 0.03],\n",
       "       [0.98, 0.02],\n",
       "       [0.99, 0.01]])"
      ]
     },
     "execution_count": 95,
     "metadata": {},
     "output_type": "execute_result"
    }
   ],
   "source": [
    "combos"
   ]
  },
  {
   "cell_type": "code",
   "execution_count": 98,
   "metadata": {},
   "outputs": [
    {
     "data": {
      "text/plain": [
       "396"
      ]
     },
     "execution_count": 98,
     "metadata": {},
     "output_type": "execute_result"
    }
   ],
   "source": [
    "99*4"
   ]
  },
  {
   "cell_type": "code",
   "execution_count": null,
   "metadata": {},
   "outputs": [],
   "source": []
  }
 ],
 "metadata": {
  "kernelspec": {
   "display_name": "Python 3 (ipykernel)",
   "language": "python",
   "name": "python3"
  },
  "language_info": {
   "codemirror_mode": {
    "name": "ipython",
    "version": 3
   },
   "file_extension": ".py",
   "mimetype": "text/x-python",
   "name": "python",
   "nbconvert_exporter": "python",
   "pygments_lexer": "ipython3",
   "version": "3.9.17"
  }
 },
 "nbformat": 4,
 "nbformat_minor": 4
}
