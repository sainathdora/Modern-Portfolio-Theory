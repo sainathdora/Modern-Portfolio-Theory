{
 "cells": [
  {
   "cell_type": "code",
   "execution_count": 147,
   "metadata": {},
   "outputs": [],
   "source": [
    "import pandas as pd\n",
    "import numpy as np\n",
    "import matplotlib.pyplot as plt\n",
    "import itertools"
   ]
  },
  {
   "cell_type": "code",
   "execution_count": 148,
   "metadata": {},
   "outputs": [
    {
     "data": {
      "text/html": [
       "<div>\n",
       "<style scoped>\n",
       "    .dataframe tbody tr th:only-of-type {\n",
       "        vertical-align: middle;\n",
       "    }\n",
       "\n",
       "    .dataframe tbody tr th {\n",
       "        vertical-align: top;\n",
       "    }\n",
       "\n",
       "    .dataframe thead th {\n",
       "        text-align: right;\n",
       "    }\n",
       "</style>\n",
       "<table border=\"1\" class=\"dataframe\">\n",
       "  <thead>\n",
       "    <tr style=\"text-align: right;\">\n",
       "      <th></th>\n",
       "      <th>Date</th>\n",
       "      <th>Open</th>\n",
       "      <th>High</th>\n",
       "      <th>Low</th>\n",
       "      <th>Close</th>\n",
       "      <th>Adj Close</th>\n",
       "      <th>Volume</th>\n",
       "    </tr>\n",
       "  </thead>\n",
       "  <tbody>\n",
       "    <tr>\n",
       "      <th>0</th>\n",
       "      <td>2014-01-01</td>\n",
       "      <td>156.000000</td>\n",
       "      <td>161.500000</td>\n",
       "      <td>153.009995</td>\n",
       "      <td>155.404999</td>\n",
       "      <td>149.794449</td>\n",
       "      <td>1404850</td>\n",
       "    </tr>\n",
       "    <tr>\n",
       "      <th>1</th>\n",
       "      <td>2014-01-08</td>\n",
       "      <td>156.074997</td>\n",
       "      <td>157.179993</td>\n",
       "      <td>153.699997</td>\n",
       "      <td>155.304993</td>\n",
       "      <td>149.698029</td>\n",
       "      <td>894050</td>\n",
       "    </tr>\n",
       "    <tr>\n",
       "      <th>2</th>\n",
       "      <td>2014-01-15</td>\n",
       "      <td>155.399994</td>\n",
       "      <td>160.399994</td>\n",
       "      <td>153.199997</td>\n",
       "      <td>159.684998</td>\n",
       "      <td>153.919907</td>\n",
       "      <td>1391780</td>\n",
       "    </tr>\n",
       "    <tr>\n",
       "      <th>3</th>\n",
       "      <td>2014-01-22</td>\n",
       "      <td>160.100006</td>\n",
       "      <td>161.000000</td>\n",
       "      <td>147.199997</td>\n",
       "      <td>153.574997</td>\n",
       "      <td>148.030472</td>\n",
       "      <td>756230</td>\n",
       "    </tr>\n",
       "    <tr>\n",
       "      <th>4</th>\n",
       "      <td>2014-01-29</td>\n",
       "      <td>154.500000</td>\n",
       "      <td>155.865005</td>\n",
       "      <td>147.500000</td>\n",
       "      <td>148.130005</td>\n",
       "      <td>142.782059</td>\n",
       "      <td>771570</td>\n",
       "    </tr>\n",
       "  </tbody>\n",
       "</table>\n",
       "</div>"
      ],
      "text/plain": [
       "         Date        Open        High         Low       Close   Adj Close  \\\n",
       "0  2014-01-01  156.000000  161.500000  153.009995  155.404999  149.794449   \n",
       "1  2014-01-08  156.074997  157.179993  153.699997  155.304993  149.698029   \n",
       "2  2014-01-15  155.399994  160.399994  153.199997  159.684998  153.919907   \n",
       "3  2014-01-22  160.100006  161.000000  147.199997  153.574997  148.030472   \n",
       "4  2014-01-29  154.500000  155.865005  147.500000  148.130005  142.782059   \n",
       "\n",
       "    Volume  \n",
       "0  1404850  \n",
       "1   894050  \n",
       "2  1391780  \n",
       "3   756230  \n",
       "4   771570  "
      ]
     },
     "execution_count": 148,
     "metadata": {},
     "output_type": "execute_result"
    }
   ],
   "source": [
    "df = pd.read_csv('TCS.csv')\n",
    "# df\n",
    "df2 = pd.read_csv(\"BAJFINANCE.csv\")\n",
    "df2.head()"
   ]
  },
  {
   "cell_type": "code",
   "execution_count": 149,
   "metadata": {},
   "outputs": [
    {
     "data": {
      "text/html": [
       "<div>\n",
       "<style scoped>\n",
       "    .dataframe tbody tr th:only-of-type {\n",
       "        vertical-align: middle;\n",
       "    }\n",
       "\n",
       "    .dataframe tbody tr th {\n",
       "        vertical-align: top;\n",
       "    }\n",
       "\n",
       "    .dataframe thead th {\n",
       "        text-align: right;\n",
       "    }\n",
       "</style>\n",
       "<table border=\"1\" class=\"dataframe\">\n",
       "  <thead>\n",
       "    <tr style=\"text-align: right;\">\n",
       "      <th></th>\n",
       "      <th>Date</th>\n",
       "      <th>Open</th>\n",
       "      <th>High</th>\n",
       "      <th>Low</th>\n",
       "      <th>Close</th>\n",
       "      <th>Adj Close</th>\n",
       "      <th>Volume</th>\n",
       "    </tr>\n",
       "  </thead>\n",
       "  <tbody>\n",
       "    <tr>\n",
       "      <th>0</th>\n",
       "      <td>2014-01-01</td>\n",
       "      <td>46.869999</td>\n",
       "      <td>46.869999</td>\n",
       "      <td>41.779999</td>\n",
       "      <td>45.790001</td>\n",
       "      <td>42.803696</td>\n",
       "      <td>4824700</td>\n",
       "    </tr>\n",
       "    <tr>\n",
       "      <th>1</th>\n",
       "      <td>2014-01-08</td>\n",
       "      <td>41.230000</td>\n",
       "      <td>41.500000</td>\n",
       "      <td>36.500000</td>\n",
       "      <td>38.180000</td>\n",
       "      <td>35.690002</td>\n",
       "      <td>10139200</td>\n",
       "    </tr>\n",
       "    <tr>\n",
       "      <th>2</th>\n",
       "      <td>2014-01-15</td>\n",
       "      <td>38.759998</td>\n",
       "      <td>39.970001</td>\n",
       "      <td>37.750000</td>\n",
       "      <td>38.430000</td>\n",
       "      <td>35.923698</td>\n",
       "      <td>1911800</td>\n",
       "    </tr>\n",
       "    <tr>\n",
       "      <th>3</th>\n",
       "      <td>2014-01-22</td>\n",
       "      <td>38.500000</td>\n",
       "      <td>38.750000</td>\n",
       "      <td>36.110001</td>\n",
       "      <td>36.490002</td>\n",
       "      <td>34.110218</td>\n",
       "      <td>1856900</td>\n",
       "    </tr>\n",
       "    <tr>\n",
       "      <th>4</th>\n",
       "      <td>2014-01-29</td>\n",
       "      <td>36.139999</td>\n",
       "      <td>37.480000</td>\n",
       "      <td>34.230000</td>\n",
       "      <td>36.750000</td>\n",
       "      <td>34.353260</td>\n",
       "      <td>2748200</td>\n",
       "    </tr>\n",
       "  </tbody>\n",
       "</table>\n",
       "</div>"
      ],
      "text/plain": [
       "         Date       Open       High        Low      Close  Adj Close    Volume\n",
       "0  2014-01-01  46.869999  46.869999  41.779999  45.790001  42.803696   4824700\n",
       "1  2014-01-08  41.230000  41.500000  36.500000  38.180000  35.690002  10139200\n",
       "2  2014-01-15  38.759998  39.970001  37.750000  38.430000  35.923698   1911800\n",
       "3  2014-01-22  38.500000  38.750000  36.110001  36.490002  34.110218   1856900\n",
       "4  2014-01-29  36.139999  37.480000  34.230000  36.750000  34.353260   2748200"
      ]
     },
     "execution_count": 149,
     "metadata": {},
     "output_type": "execute_result"
    }
   ],
   "source": [
    "df.head()"
   ]
  },
  {
   "cell_type": "code",
   "execution_count": 150,
   "metadata": {},
   "outputs": [
    {
     "data": {
      "text/html": [
       "<div>\n",
       "<style scoped>\n",
       "    .dataframe tbody tr th:only-of-type {\n",
       "        vertical-align: middle;\n",
       "    }\n",
       "\n",
       "    .dataframe tbody tr th {\n",
       "        vertical-align: top;\n",
       "    }\n",
       "\n",
       "    .dataframe thead th {\n",
       "        text-align: right;\n",
       "    }\n",
       "</style>\n",
       "<table border=\"1\" class=\"dataframe\">\n",
       "  <thead>\n",
       "    <tr style=\"text-align: right;\">\n",
       "      <th></th>\n",
       "      <th>Date</th>\n",
       "      <th>Open</th>\n",
       "      <th>High</th>\n",
       "      <th>Low</th>\n",
       "      <th>Close</th>\n",
       "      <th>Adj Close</th>\n",
       "      <th>Volume</th>\n",
       "    </tr>\n",
       "  </thead>\n",
       "  <tbody>\n",
       "    <tr>\n",
       "      <th>517</th>\n",
       "      <td>2023-11-29</td>\n",
       "      <td>7134.000000</td>\n",
       "      <td>7440.000000</td>\n",
       "      <td>7085.649902</td>\n",
       "      <td>7349.799805</td>\n",
       "      <td>7349.799805</td>\n",
       "      <td>5478509</td>\n",
       "    </tr>\n",
       "    <tr>\n",
       "      <th>518</th>\n",
       "      <td>2023-12-06</td>\n",
       "      <td>7390.000000</td>\n",
       "      <td>7459.000000</td>\n",
       "      <td>7270.049805</td>\n",
       "      <td>7314.549805</td>\n",
       "      <td>7314.549805</td>\n",
       "      <td>3738417</td>\n",
       "    </tr>\n",
       "    <tr>\n",
       "      <th>519</th>\n",
       "      <td>2023-12-13</td>\n",
       "      <td>7299.850098</td>\n",
       "      <td>7641.600098</td>\n",
       "      <td>7207.000000</td>\n",
       "      <td>7632.649902</td>\n",
       "      <td>7632.649902</td>\n",
       "      <td>5460666</td>\n",
       "    </tr>\n",
       "    <tr>\n",
       "      <th>520</th>\n",
       "      <td>2023-12-20</td>\n",
       "      <td>7650.000000</td>\n",
       "      <td>7695.000000</td>\n",
       "      <td>7145.250000</td>\n",
       "      <td>7162.299805</td>\n",
       "      <td>7162.299805</td>\n",
       "      <td>4142957</td>\n",
       "    </tr>\n",
       "    <tr>\n",
       "      <th>521</th>\n",
       "      <td>2023-12-27</td>\n",
       "      <td>7219.899902</td>\n",
       "      <td>7343.000000</td>\n",
       "      <td>7190.899902</td>\n",
       "      <td>7299.049805</td>\n",
       "      <td>7299.049805</td>\n",
       "      <td>4705634</td>\n",
       "    </tr>\n",
       "  </tbody>\n",
       "</table>\n",
       "</div>"
      ],
      "text/plain": [
       "           Date         Open         High          Low        Close  \\\n",
       "517  2023-11-29  7134.000000  7440.000000  7085.649902  7349.799805   \n",
       "518  2023-12-06  7390.000000  7459.000000  7270.049805  7314.549805   \n",
       "519  2023-12-13  7299.850098  7641.600098  7207.000000  7632.649902   \n",
       "520  2023-12-20  7650.000000  7695.000000  7145.250000  7162.299805   \n",
       "521  2023-12-27  7219.899902  7343.000000  7190.899902  7299.049805   \n",
       "\n",
       "       Adj Close   Volume  \n",
       "517  7349.799805  5478509  \n",
       "518  7314.549805  3738417  \n",
       "519  7632.649902  5460666  \n",
       "520  7162.299805  4142957  \n",
       "521  7299.049805  4705634  "
      ]
     },
     "execution_count": 150,
     "metadata": {},
     "output_type": "execute_result"
    }
   ],
   "source": [
    "list_of_stocks = ['BAJFINANCE.csv', 'BPCL.NS.csv', 'HDB.csv', 'INFY.csv', 'KOTAKBANK.NS.csv',\n",
    "                  'TATASTEEL.NS.csv','TCS.csv', 'TTNP.csv', 'WIT.csv']\n",
    "stocks = {i:pd.read_csv(j) for i, j in enumerate(list_of_stocks)}\n",
    "stocks[0].tail()"
   ]
  },
  {
   "cell_type": "code",
   "execution_count": 151,
   "metadata": {},
   "outputs": [],
   "source": [
    "for i in stocks:\n",
    "    stocks[i]=stocks[i].drop(columns=['Open', 'High', 'Low', 'Adj Close', 'Volume'])"
   ]
  },
  {
   "cell_type": "markdown",
   "metadata": {},
   "source": [
    "### Function to find returns"
   ]
  },
  {
   "cell_type": "code",
   "execution_count": 152,
   "metadata": {},
   "outputs": [],
   "source": [
    "def R(price_col):\n",
    "    first_row = [0]\n",
    "    for i in range(1, len(price_col)):\n",
    "        first_row.append(((price_col[i]-price_col[i-1])/(price_col[i-1]))*100)\n",
    "    return np.array(first_row).round(2)"
   ]
  },
  {
   "cell_type": "code",
   "execution_count": 153,
   "metadata": {},
   "outputs": [
    {
     "data": {
      "text/html": [
       "<div>\n",
       "<style scoped>\n",
       "    .dataframe tbody tr th:only-of-type {\n",
       "        vertical-align: middle;\n",
       "    }\n",
       "\n",
       "    .dataframe tbody tr th {\n",
       "        vertical-align: top;\n",
       "    }\n",
       "\n",
       "    .dataframe thead th {\n",
       "        text-align: right;\n",
       "    }\n",
       "</style>\n",
       "<table border=\"1\" class=\"dataframe\">\n",
       "  <thead>\n",
       "    <tr style=\"text-align: right;\">\n",
       "      <th></th>\n",
       "      <th>Date</th>\n",
       "      <th>Close</th>\n",
       "    </tr>\n",
       "  </thead>\n",
       "  <tbody>\n",
       "    <tr>\n",
       "      <th>0</th>\n",
       "      <td>2014-01-01</td>\n",
       "      <td>155.404999</td>\n",
       "    </tr>\n",
       "    <tr>\n",
       "      <th>1</th>\n",
       "      <td>2014-01-08</td>\n",
       "      <td>155.304993</td>\n",
       "    </tr>\n",
       "    <tr>\n",
       "      <th>2</th>\n",
       "      <td>2014-01-15</td>\n",
       "      <td>159.684998</td>\n",
       "    </tr>\n",
       "    <tr>\n",
       "      <th>3</th>\n",
       "      <td>2014-01-22</td>\n",
       "      <td>153.574997</td>\n",
       "    </tr>\n",
       "    <tr>\n",
       "      <th>4</th>\n",
       "      <td>2014-01-29</td>\n",
       "      <td>148.130005</td>\n",
       "    </tr>\n",
       "    <tr>\n",
       "      <th>...</th>\n",
       "      <td>...</td>\n",
       "      <td>...</td>\n",
       "    </tr>\n",
       "    <tr>\n",
       "      <th>517</th>\n",
       "      <td>2023-11-29</td>\n",
       "      <td>7349.799805</td>\n",
       "    </tr>\n",
       "    <tr>\n",
       "      <th>518</th>\n",
       "      <td>2023-12-06</td>\n",
       "      <td>7314.549805</td>\n",
       "    </tr>\n",
       "    <tr>\n",
       "      <th>519</th>\n",
       "      <td>2023-12-13</td>\n",
       "      <td>7632.649902</td>\n",
       "    </tr>\n",
       "    <tr>\n",
       "      <th>520</th>\n",
       "      <td>2023-12-20</td>\n",
       "      <td>7162.299805</td>\n",
       "    </tr>\n",
       "    <tr>\n",
       "      <th>521</th>\n",
       "      <td>2023-12-27</td>\n",
       "      <td>7299.049805</td>\n",
       "    </tr>\n",
       "  </tbody>\n",
       "</table>\n",
       "<p>522 rows × 2 columns</p>\n",
       "</div>"
      ],
      "text/plain": [
       "           Date        Close\n",
       "0    2014-01-01   155.404999\n",
       "1    2014-01-08   155.304993\n",
       "2    2014-01-15   159.684998\n",
       "3    2014-01-22   153.574997\n",
       "4    2014-01-29   148.130005\n",
       "..          ...          ...\n",
       "517  2023-11-29  7349.799805\n",
       "518  2023-12-06  7314.549805\n",
       "519  2023-12-13  7632.649902\n",
       "520  2023-12-20  7162.299805\n",
       "521  2023-12-27  7299.049805\n",
       "\n",
       "[522 rows x 2 columns]"
      ]
     },
     "execution_count": 153,
     "metadata": {},
     "output_type": "execute_result"
    }
   ],
   "source": [
    "stocks[0]"
   ]
  },
  {
   "cell_type": "code",
   "execution_count": 154,
   "metadata": {},
   "outputs": [],
   "source": [
    "for i in stocks:\n",
    "    stocks[i][f'R({i})'] = R(stocks[i].iloc[:, 1])"
   ]
  },
  {
   "cell_type": "markdown",
   "metadata": {},
   "source": [
    "## Creating Portfolio Class which consists of all utitity functionalities"
   ]
  },
  {
   "cell_type": "code",
   "execution_count": 222,
   "metadata": {},
   "outputs": [],
   "source": [
    "class Portfolio:\n",
    "    def __init__(self, *stocks):\n",
    "        self.stocks = {i:j for i, j in enumerate(stocks)}\n",
    "            \n",
    "#         within stocks we expect an array of df\n",
    "        \n",
    "        self.no_of_stocks = len(self.stocks)\n",
    "        \n",
    "    def getAllWeights(self):\n",
    "        weight_options = range(0, 101, 5)\n",
    "        combinations = [combo for combo in itertools.product(weight_options, repeat=len(self.stocks)) if sum(combo) == 100]\n",
    "        return combinations\n",
    "    \n",
    "    \n",
    "    \n",
    "    def getPortReturn(self, *weights):\n",
    "        avg = []\n",
    "        for i in self.stocks:\n",
    "            avg.append(self.stocks[i].iloc[:, -1].mean())\n",
    "        avg = np.array(avg)\n",
    "        weights = np.array(weights)[0]\n",
    "        return np.dot(avg, weights/100).round(5)\n",
    "    \n",
    "    \n",
    "    \n",
    "    \n",
    "    def getPortStd(self, *weights):\n",
    "        stocks_returns = []\n",
    "        for i in self.stocks:\n",
    "            stocks_returns.append(self.stocks[i].iloc[:, -1])\n",
    "        stocks_returns = np.array(stocks_returns)\n",
    "        df = pd.DataFrame(stocks_returns.T)\n",
    "        l = []\n",
    "        weights = np.array(weights)[0]\n",
    "        for i in df.index:\n",
    "            l.append(np.dot(df.iloc[i, :],np.array(weights)/100))\n",
    "        df['Portfolio(R)'] = l\n",
    "        return df.iloc[:, -1].std()\n",
    "        \n",
    "# reliance = pd.read_csv(\"RELIANCE-Copy1.csv\")\n",
    "# adani = pd.read_csv(\"ADANIENT-Copy1.csv\")\n",
    "# reliance = reliance.drop(columns=['Open', 'High', 'Low', 'Adj Close', 'Volume'])\n",
    "# adani=adani.drop(columns=['Open', 'High', 'Low', 'Adj Close', 'Volume'])\n",
    "# reliance['R(R)'] = R(reliance.iloc[:, -1])\n",
    "# adani['R(A)'] = R(adani.iloc[:, -1])\n",
    "# p1 = Portfolio(reliance, adani)\n",
    "# p1.getPortStd(50, 50)\n"
   ]
  },
  {
   "cell_type": "code",
   "execution_count": 223,
   "metadata": {},
   "outputs": [
    {
     "data": {
      "text/plain": [
       "4.017501990255917"
      ]
     },
     "execution_count": 223,
     "metadata": {},
     "output_type": "execute_result"
    }
   ],
   "source": [
    "port1 = Portfolio(stocks[0], stocks[1], stocks[2])\n",
    "s = port1.getPortStd((50, 40, 10))\n",
    "s"
   ]
  },
  {
   "cell_type": "code",
   "execution_count": 224,
   "metadata": {},
   "outputs": [
    {
     "data": {
      "text/plain": [
       "0.63099"
      ]
     },
     "execution_count": 224,
     "metadata": {},
     "output_type": "execute_result"
    }
   ],
   "source": [
    "port1.getPortReturn((50, 40, 10))"
   ]
  },
  {
   "cell_type": "code",
   "execution_count": 225,
   "metadata": {},
   "outputs": [
    {
     "data": {
      "image/png": "[encoded data removed]",
      "text/plain": [
       "<Figure size 640x480 with 1 Axes>"
      ]
     },
     "metadata": {},
     "output_type": "display_data"
    }
   ],
   "source": [
    "for i in port1.getAllWeights():\n",
    "    plt.scatter(port1.getPortStd(i), port1.getPortReturn(i))\n",
    "plt.show()"
   ]
  },
  {
   "cell_type": "code",
   "execution_count": null,
   "metadata": {},
   "outputs": [],
   "source": []
  },
  {
   "cell_type": "code",
   "execution_count": null,
   "metadata": {},
   "outputs": [],
   "source": []
  },
  {
   "cell_type": "code",
   "execution_count": null,
   "metadata": {},
   "outputs": [],
   "source": []
  }
 ],
 "metadata": {
  "kernelspec": {
   "display_name": "Python 3 (ipykernel)",
   "language": "python",
   "name": "python3"
  },
  "language_info": {
   "codemirror_mode": {
    "name": "ipython",
    "version": 3
   },
   "file_extension": ".py",
   "mimetype": "text/x-python",
   "name": "python",
   "nbconvert_exporter": "python",
   "pygments_lexer": "ipython3",
   "version": "3.9.18"
  }
 },
 "nbformat": 4,
 "nbformat_minor": 4
}
